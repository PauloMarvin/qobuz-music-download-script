{
 "cells": [
  {
   "cell_type": "code",
   "id": "initial_id",
   "metadata": {
    "collapsed": true
   },
   "source": [
    "import logging\n",
    "from qobuz_dl.core import QobuzDL\n",
    "from dotenv import load_dotenv\n",
    "import os\n",
    "\n",
    "load_dotenv(dotenv_path=\"env/qobuz_credentials.env\")\n",
    "\n",
    "logging.basicConfig(level=logging.INFO)\n",
    "\n",
    "email = os.getenv(\"EMAIL\")\n",
    "password = os.getenv(\"PASSWORD\")"
   ],
   "outputs": [],
   "execution_count": null
  },
  {
   "cell_type": "code",
   "id": "8d6dda1989fbbdac",
   "metadata": {},
   "source": [
    "def load_links_from_txt(txt_file_path: str) -> list[str]:\n",
    "    try:\n",
    "        with open(txt_file_path, \"r\") as f:\n",
    "            links = [linha.strip() for linha in f if linha.strip()]\n",
    "        return links\n",
    "    except FileNotFoundError:\n",
    "        return []\n",
    "    except Exception as e:\n",
    "        return []"
   ],
   "outputs": [],
   "execution_count": null
  },
  {
   "cell_type": "code",
   "id": "2e9434079e349caa",
   "metadata": {},
   "source": [
    "from datetime import datetime\n",
    "\n",
    "qobuz = QobuzDL(\n",
    "    directory=\"/Users/marvin/OneDrive/qobuz\",\n",
    "    quality=6,\n",
    "    embed_art=True,\n",
    "    ignore_singles_eps=True,\n",
    "    no_m3u_for_playlists=False,\n",
    "    quality_fallback=True,\n",
    "    cover_og_quality=True,\n",
    "    smart_discography=True,\n",
    ")\n",
    "qobuz.get_tokens()\n",
    "qobuz.initialize_client(\n",
    "    email=email, pwd=password, app_id=qobuz.app_id, secrets=qobuz.secrets\n",
    ")\n"
   ],
   "outputs": [],
   "execution_count": null
  },
  {
   "metadata": {},
   "cell_type": "code",
   "source": [
    "failed_links = []\n",
    "\n",
    "for link in load_links_from_txt(\"music.txt\"):\n",
    "    try:\n",
    "        qobuz.handle_url(link)\n",
    "    except Exception as e:\n",
    "        print(f\"Erro ao baixar {link}: {str(e)}\")\n",
    "        failed_links.append(link)\n",
    "\n",
    "if failed_links:\n",
    "    timestamp = datetime.now().strftime('%Y-%m-%d_%H-%M-%S')\n",
    "    filename = f\"failed_links_{timestamp}.txt\"\n",
    "\n",
    "    with open(filename, \"w\", encoding=\"utf-8\") as f:\n",
    "        f.write(\"\\n\".join(failed_links))\n",
    "\n",
    "    print(f\"\\n{len(failed_links)} links falhos salvos em {filename}\")"
   ],
   "id": "f2f9b72868df10fd",
   "outputs": [],
   "execution_count": null
  }
 ],
 "metadata": {
  "kernelspec": {
   "display_name": "Python 3",
   "language": "python",
   "name": "python3"
  },
  "language_info": {
   "codemirror_mode": {
    "name": "ipython",
    "version": 2
   },
   "file_extension": ".py",
   "mimetype": "text/x-python",
   "name": "python",
   "nbconvert_exporter": "python",
   "pygments_lexer": "ipython2",
   "version": "2.7.6"
  }
 },
 "nbformat": 4,
 "nbformat_minor": 5
}
